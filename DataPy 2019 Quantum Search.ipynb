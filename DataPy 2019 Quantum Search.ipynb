{
 "cells": [
  {
   "cell_type": "markdown",
   "metadata": {
    "slideshow": {
     "slide_type": "slide"
    }
   },
   "source": [
    "# Quantum Search\n",
    "---\n",
    "### By:\n",
    "Sara Metwalli   \n",
    "Project Researcher   \n",
    "Keio University   \n",
    "Tokyo, Japan   "
   ]
  },
  {
   "cell_type": "markdown",
   "metadata": {
    "slideshow": {
     "slide_type": "slide"
    }
   },
   "source": [
    "# About Me\n",
    "---\n",
    "\n",
    "Sara Ayman Metwalli  \n",
    "I am 27 years old from Egypt  \n",
    "Bachelor Degree in Communications and Electronics Engineering in 2014 and Masters Degree in Computer and Communications Engineering from Tokyo Institute of Technology in 2018.  \n",
    "\n",
    "Now, I work with AQUA (Advancing QUantum Architecture) group in Keio University as a researcher.\n",
    "<img src=\"AQUA.png\">\n",
    "\n",
    "For more information about me: https://sara-ayman-metwalli.jimdosite.com  \n",
    "For more information about AQUA: http://aqua.sfc.wide.ad.jp/home.html"
   ]
  },
  {
   "cell_type": "markdown",
   "metadata": {
    "slideshow": {
     "slide_type": "slide"
    }
   },
   "source": [
    "# Introduction\n",
    "---------------------\n",
    "\n",
    "Quantum teleportation is one of the practical applications of quantum physics that can be implemented using quantum computers.\n",
    "\n",
    "Before we get into what is quantum teleportation, or how to implement it in code.\n",
    "\n",
    "Let's first discuss what is \"Quantum\" ?"
   ]
  },
  {
   "cell_type": "markdown",
   "metadata": {
    "slideshow": {
     "slide_type": "slide"
    }
   },
   "source": [
    "# What is \"Quantum Computing\"?\n",
    "----------\n",
    "Quantum computing is the use of quantum-mechanical phenomena such as superposition and entanglement to perform computation.\n",
    "\n",
    "\n",
    "What is entanglement? and what does superposition mean?\n",
    "\n",
    "\n",
    "To explain these important concepts, we first need to understand what is a \"Qubit\"\n",
    "\n",
    "<img src=\"thinking_man.jpg\">"
   ]
  },
  {
   "cell_type": "markdown",
   "metadata": {
    "slideshow": {
     "slide_type": "subslide"
    }
   },
   "source": [
    "## Quantum Bits (Qubits)\n",
    "---\n",
    "\n",
    "Qubits to quantum computers are the same as bits for classical computers\n",
    "\n",
    "Qubits are the simplest version of a mechanical system used as the base of quantum computers. \n",
    "\n",
    "How qubits interact together follows the laws of quantum theory. The two most important aspects of that are superposition and entanglement. "
   ]
  },
  {
   "cell_type": "markdown",
   "metadata": {
    "slideshow": {
     "slide_type": "subslide"
    }
   },
   "source": [
    "## Quantum Entanglement\n",
    "---\n",
    "Particles (atoms, ions) that have interacted at some point in time retain a  connection and can be entangled with each other as a *pair*. \n",
    "\n",
    "Knowing the spin state of one entangled particle allows one to know that the spin of its entangled particle is in the opposite direction.\n",
    "\n",
    "The entaglement remains until one of the qubits is measured!"
   ]
  },
  {
   "cell_type": "markdown",
   "metadata": {
    "slideshow": {
     "slide_type": "subslide"
    }
   },
   "source": [
    "## Quantum Superposition\n",
    "---\n",
    "Imagine the qubit as an electron in a magnetic field. The electron's spin may be either in alignment with the field, which is known as a spin-up state, or opposite to the field, which is known as a spin-down state. \n",
    "\n",
    "According to quantum law, the particle then enters a superposition of states, in which it behaves as if it were in both states simultaneously and it stays in that states until it is measured."
   ]
  },
  {
   "cell_type": "markdown",
   "metadata": {
    "slideshow": {
     "slide_type": "slide"
    }
   },
   "source": [
    "# Coding Time\n",
    "---\n",
    "\n",
    "How can we represent qubits in code?\n",
    "\n",
    "Use the Python *Qiskit* Module."
   ]
  },
  {
   "cell_type": "code",
   "execution_count": 7,
   "metadata": {
    "slideshow": {
     "slide_type": "slide"
    }
   },
   "outputs": [],
   "source": [
    "#Codes in this notebook are inspired by Quantum Inspire Website\n",
    "#This code is written by: Sara A. Metwalli for the Woman Who Code DataPy Conference 2019\n",
    "\n",
    "#Libraries needed to implement and simulate quantum circuits\n",
    "from qiskit import QuantumRegister, ClassicalRegister, QuantumCircuit, Aer, execute \n",
    "import math as m\n",
    "import numpy as np\n",
    "#Custem functions to simplify answers\n",
    "#import Our_Qiskit_Functions as oq #a part of the libabry presented in arXiv:1903.04359v1.\n",
    "\n",
    "\n",
    "#Initialize backends simulators to visualize circuits\n",
    "S_simulator = Aer.backends(name='statevector_simulator')[0]\n",
    "Q_simulator = Aer.backends(name='qasm_simulator')[0]\n",
    "\n",
    "#Create quantum registers (to hold qubits)\n",
    "q = QuantumRegister(2)\n",
    "#Classical register to hold classical bits (Used to measure results)\n",
    "c = ClassicalRegister(2)\n",
    "#Create a quantum circuit using the above registers\n",
    "qc = QuantumCircuit(q,c)"
   ]
  },
  {
   "cell_type": "code",
   "execution_count": 8,
   "metadata": {},
   "outputs": [],
   "source": [
    "#A function to display results in a ket format (as described in arXiv:1903.04359v1)\n",
    "def Measurement(quantumcircuit, *args, **kwargs): \n",
    "\t#Displays the measurement results of a quantum circuit \n",
    "\tp_M = True\n",
    "\tS = 1\n",
    "\tref = False\n",
    "\tNL = False\n",
    "\tif 'shots' in kwargs:\n",
    "\t\tS = int(kwargs['shots'])\n",
    "\tif 'return_M' in kwargs:\n",
    "\t\tret = kwargs['return_M']\n",
    "\tif 'print_M' in kwargs:\n",
    "\t\tp_M = kwargs['print_M']\n",
    "\tif 'column' in kwargs:\n",
    "\t\tNL = kwargs['column']\n",
    "\tM1 = execute(quantumcircuit, M_simulator, shots=S).result().get_counts(quantumcircuit)\n",
    "\tM2 = {}\n",
    "\tk1 = list(M1.keys())\n",
    "\tv1 = list(M1.values())\n",
    "\tfor k in np.arange(len(k1)):\n",
    "\t\tkey_list = list(k1[k])\n",
    "\t\tnew_key = ''\n",
    "\t\tfor j in np.arange(len(key_list)):\n",
    "\t\t\tnew_key = new_key+key_list[len(key_list)-(j+1)]\n",
    "\t\tM2[new_key] = v1[k]\n",
    "\tif(p_M):\n",
    "\t\tk2 = list(M2.keys())\n",
    "\t\tv2 = list(M2.values())\n",
    "\t\tmeasurements = ''\n",
    "\t\tfor i in np.arange(len(k2)):\n",
    "\t\t\tm_str = str(v2[i])+'|'\n",
    "\t\t\tfor j in np.arange(len(k2[i])):\n",
    "\t\t\t\tif(k2[i][j] == '0'):\n",
    "\t\t\t\t\tm_str = m_str + '0' \n",
    "\t\t\t\tif(k2[i][j] == '1'):\n",
    "\t\t\t\t\tm_str = m_str + '1'\n",
    "\t\t\t\tif( k2[i][j] == ' ' ):\n",
    "\t\t\t\t\tm_str = m_str +'>|'\n",
    "\t\t\tm_str = m_str + '>   '\n",
    "\t\t\tif(NL):\n",
    "\t\t\t\tm_str = m_str + '\\n'\n",
    "\t\t\tmeasurements = measurements + m_str\n",
    "\t\t#print(measurements)\n",
    "\t\treturn measurements\n",
    "\tif(ref):\n",
    "\t\treturn M2\n",
    "    \n",
    "    \n",
    "    \n",
    "def Wavefunction( obj , *args, **kwargs):\n",
    "#Displays the waveftmction of the quantum system \n",
    "\tif(type(obj) == QuantumCircuit ):\n",
    "\t\tstatevec = execute( obj, S_simulator, shots=1 ).result().get_statevector()\n",
    "\tif(type(obj) == np.ndarray):\n",
    "\t\tstatevec = obj\n",
    "\tsys = False\n",
    "\tNL = False\n",
    "\tdec = 5\n",
    "\tif 'precision' in kwargs:\n",
    "\t\tdec = int( kwargs['precision'] )\n",
    "\tif 'column' in kwargs:\n",
    "\t\tNL = kwargs['column']\n",
    "\tif 'systems' in kwargs:\n",
    "\t\tsystems = kwargs['systems']\n",
    "\t\tsys = True\n",
    "\t\tlast_sys = int(len(systems)-1)\n",
    "\t\tshow_systems = []\n",
    "\t\tfor s_chk in np.arange(len(systems)):\n",
    "\t\t\tif( type(systems[s_chk]) != int ):\n",
    "\t\t\t\traise Exception('systems must be an array of all integers')\n",
    "\t\tif 'show_systems' in kwargs:\n",
    "\t\t\tshow_systems = kwargs['show_systems']\n",
    "\t\t\tif( len(systems)!= len(show_systems) ):\n",
    "\t\t\t\traise Exception('systems and show_systems need to be arrays of equal length')\n",
    "\t\t\tfor ls in np.arange(len(show_systems)):\n",
    "\t\t\t\tif((show_systems[ls] != True) and (show_systems[ls] != False)):\n",
    "\t\t\t\t\traise Exception('show_systems must be an array of Truth Values')\n",
    "\t\t\t\tif(show_systems[ls] == True):\n",
    "\t\t\t\t\tlast_sys = int(ls) \n",
    "\t\telse:\n",
    "\t\t\tfor ss in np.arange(len(systems)):\n",
    "\t\t\t\tshow_systems.append(True)\n",
    "\twavefunction = ''\n",
    "\tqubits = int(m.log(len(statevec),2))\n",
    "\tfor i in np.arange( int(len(statevec))):\n",
    "\t\t#print(wavefunction)\n",
    "\t\tvalue = round(statevec[i].real, dec) + round(statevec[i].imag, dec) * 1j\n",
    "\t\tif( (value.real != 0) or (value.imag != 0)):\n",
    "\t\t\tstate = list(format(int(i),f\"0{int(2**qubits)}b\"))\n",
    "\t\t\tstate.reverse()\n",
    "\t\t\tstate_str = ''\n",
    "\t\t\t#print(state)\n",
    "\t\t\tif( sys == True ): #Systems and SharSystems \n",
    "\t\t\t\tk = 0 \n",
    "\t\t\t\tfor s in np.arange(len(systems)):\n",
    "\t\t\t\t\tif(show_systems[s] == True):\n",
    "\t\t\t\t\t\tif(int(s) != last_sys):\n",
    "\t\t\t\t\t\t\tstate.insert(int(k + systems[s]), '>|' )\n",
    "\t\t\t\t\t\t\tk = int(k + systems[s] + 1)\n",
    "\t\t\t\t\t\telse:\n",
    "\t\t\t\t\t\t\tk = int(k + systems[s]) \n",
    "\t\t\t\t\telse:\n",
    "\t\t\t\t\t\tfor s2 in np.arange(systems[s]):\n",
    "\t\t\t\t\t\t\tdel state[int(k)]\n",
    "\t\t\tfor j in np.arange(len(state)):\n",
    "\t\t\t\tif(type(state[j])!= str):\n",
    "\t\t\t\t\tstate_str = state_str + str(int(state[j])) \n",
    "\t\t\t\telse:\n",
    "\t\t\t\t\tstate_str = state_str + state[j]\n",
    "\t\t\t#print(state_str)\n",
    "\t\t\t#print(value)\n",
    "\t\t\tif( (value.real != 0) and (value.imag != 0) ):\n",
    "\t\t\t\tif( value.imag > 0):\n",
    "\t\t\t\t\twavefunction = wavefunction + str(value.real) + '+' + str(value.imag) + 'j |' + state_str + '>   '\n",
    "\t\t\t\telse:\n",
    "\t\t\t\t\twavefunction = wavefunction + str(value.real) + '' + str(value.imag) + 'j |' + state_str +  '>   '\n",
    "\t\t\tif( (value.real !=0 ) and (value.imag ==0) ):\n",
    "\t\t\t\twavefunction = wavefunction  + str(value.real) + '  |' + state_str + '>   '\n",
    "\t\t\tif( (value.real == 0) and (value.imag != 0) ):\n",
    "\t\t\t\twavefunction = wavefunction + str(value.imag)  + 'j |' + state_str + '>   '\n",
    "\t\t\tif(NL):\n",
    "\t\t\t\twavefunction = wavefunction + '\\n'\n",
    "\t\t#print(NL)\n",
    "\t\n",
    "\t#print(wavefunction)\n",
    "\treturn wavefunction"
   ]
  },
  {
   "cell_type": "markdown",
   "metadata": {
    "slideshow": {
     "slide_type": "slide"
    }
   },
   "source": [
    "# Quantum Gates\n",
    "---\n",
    "\n",
    "Programing quantum computers is now done on a gate level, similar to classical gates.\n",
    "\n",
    "Now\n",
    "\n",
    "Let's talk about most common quantum gates"
   ]
  },
  {
   "cell_type": "markdown",
   "metadata": {},
   "source": [
    "## Identity Operator\n",
    "---\n",
    "\n",
    "The identity operator leaves the state unchanged, it is mostly used to initialize qubits to zero.\n",
    "\n",
    "| input     | output  |\n",
    "|---------  |-------  |\n",
    "| 0         | 0       |\n",
    "| 1         | 1       |\n"
   ]
  },
  {
   "cell_type": "code",
   "execution_count": 9,
   "metadata": {},
   "outputs": [
    {
     "name": "stdout",
     "output_type": "stream",
     "text": [
      "1.0  |0000>   \n"
     ]
    },
    {
     "data": {
      "image/png": "[encoded data removed]",
      "text/plain": [
       "<Figure size 159.923x204.68 with 1 Axes>"
      ]
     },
     "execution_count": 9,
     "metadata": {},
     "output_type": "execute_result"
    }
   ],
   "source": [
    "#1- Iden operator\n",
    "qc.id(q[0])\n",
    "print(Wavefunction(qc))\n",
    "qc.draw()"
   ]
  },
  {
   "cell_type": "markdown",
   "metadata": {},
   "source": [
    "## NOT Gate\n",
    "---\n",
    "\n",
    "The NOT gate takes a qubits and flips its state!\n",
    "\n",
    "| input   | output|\n",
    "|---------|-------|\n",
    "| 0       | 1     |\n",
    "| 1       | 0     |\n"
   ]
  },
  {
   "cell_type": "code",
   "execution_count": 11,
   "metadata": {},
   "outputs": [
    {
     "name": "stdout",
     "output_type": "stream",
     "text": [
      "1.0  |0000>   \n"
     ]
    },
    {
     "data": {
      "image/png": "[encoded data removed]",
      "text/plain": [
       "<Figure size 280.323x204.68 with 1 Axes>"
      ]
     },
     "execution_count": 11,
     "metadata": {},
     "output_type": "execute_result"
    }
   ],
   "source": [
    "#2- NOT gate\n",
    "qc.x(q[0])\n",
    "print(Wavefunction(qc))\n",
    "qc.draw()"
   ]
  },
  {
   "cell_type": "markdown",
   "metadata": {},
   "source": [
    "## Controlled-NOT Gate (Toffoli Gate)\n",
    "---\n",
    "\n",
    "The controlled-NOT functionality is described using this truth-table:\n",
    "\n",
    "| control in \t| target bit \t| control out \t| output \t|\n",
    "|------------\t|------------\t|-------------\t|--------\t|\n",
    "| 0          \t| 0          \t| 0           \t| 0      \t|\n",
    "| 0          \t| 1          \t| 0           \t| 1      \t|\n",
    "| 1          \t| 0          \t| 1           \t| 1      \t|\n",
    "| 1          \t| 1          \t| 1           \t| 0      \t|\n",
    "\n",
    "Example:\n",
    "\n",
    "CNOT  |00> ===> |00>  \n",
    "CNOT  |01> ===> |01>  \n",
    "CNOT  |10> ===> |11>  \n",
    "CNOT  |11> ===> |10>  "
   ]
  },
  {
   "cell_type": "code",
   "execution_count": 12,
   "metadata": {},
   "outputs": [
    {
     "name": "stdout",
     "output_type": "stream",
     "text": [
      "1.0  |0000>   \n"
     ]
    },
    {
     "data": {
      "image/png": "[encoded data removed]",
      "text/plain": [
       "<Figure size 340.523x204.68 with 1 Axes>"
      ]
     },
     "execution_count": 12,
     "metadata": {},
     "output_type": "execute_result"
    }
   ],
   "source": [
    "#3- Controlled-NOT\n",
    "qc.cx(q[0],q[1])\n",
    "print(Wavefunction(qc))\n",
    "qc.draw()"
   ]
  },
  {
   "cell_type": "markdown",
   "metadata": {},
   "source": [
    "## The Hadamard Gate\n",
    "---\n",
    "\n",
    "The Hadamard gate takes a qubit and returns an equal superposition of |0> and |1>."
   ]
  },
  {
   "cell_type": "code",
   "execution_count": 13,
   "metadata": {},
   "outputs": [
    {
     "name": "stdout",
     "output_type": "stream",
     "text": [
      "0.70711  |0000>   0.70711  |0100>   \n"
     ]
    },
    {
     "data": {
      "image/png": "[encoded data removed]",
      "text/plain": [
       "<Figure size 400.723x204.68 with 1 Axes>"
      ]
     },
     "execution_count": 13,
     "metadata": {},
     "output_type": "execute_result"
    }
   ],
   "source": [
    "#4- Hadamard\n",
    "qc.h(q[1])\n",
    "print(Wavefunction(qc))\n",
    "qc.draw()"
   ]
  },
  {
   "cell_type": "markdown",
   "metadata": {},
   "source": [
    "# Quantum basis\n",
    "---\n",
    "\n",
    "|0> base is the zero state  \n",
    "|1> base is the one state  \n",
    "|+> base is the Hadamard of the |0> state  \n",
    "|-> base is the Hadamard of the |1> state  \n",
    "\n",
    "$$\n",
    "\\begin{array}{l}{|+\\rangle=\\frac{1}{\\sqrt{2}}(|0\\rangle+|1\\rangle)} \\\\ {|-\\rangle=\\frac{1}{\\sqrt{2}}(|0\\rangle-|1\\rangle)}\\end{array}$$"
   ]
  },
  {
   "cell_type": "markdown",
   "metadata": {},
   "source": [
    "Phew...\n",
    "\n",
    "That was a lot!!"
   ]
  },
  {
   "cell_type": "markdown",
   "metadata": {},
   "source": [
    "# Quantum Search\n",
    "---\n",
    "Imagine you have to decrypt a secret message. Unfortunately, the message is encrypted using a 12-digit secret key. But you don’t know the secret key. The only way to unlock the message is by searching through the \n",
    "$$ N = 10^{12}$$\n",
    "(one trillion) possible keys. While you may get lucky and find the right key early on, on average you’ll need to try N/2 different keys, and in the worst case you’ll need to try all N.   \n",
    "On a conventional classical computer, if we have a search space of N items, we need to examine the search space on the order of N times to find the item we’re looking for. It turns out that you can use a quantum computer to solve the search problem after examining the search space roughly \n",
    "$$\\sqrt{N}$$\n",
    "times! "
   ]
  },
  {
   "cell_type": "markdown",
   "metadata": {},
   "source": [
    "## Grover's Search\n",
    "---\n",
    "In mathematical terms, Grover's algorithm solves the problem of an unstructured search. It is a quantum algorithm for finding the input value $$x_0$$ of an Oracle function f(x) where $$f(x_0)=1$$ and f(x)=0 for all other values of x."
   ]
  },
  {
   "cell_type": "markdown",
   "metadata": {},
   "source": [
    "Grover's algorithm is a probabilistic algorithm that repeats every N/2 period.\n",
    "To boost the correct answer, the algorithm must be repeated an optimal iteration time that varies based on the number of input qubits, and the number of correct answers wanted from the algorithm. "
   ]
  },
  {
   "cell_type": "markdown",
   "metadata": {},
   "source": [
    "## Algorithm Construction\n",
    "---\n",
    "<img src=\"grover.jpeg\">"
   ]
  },
  {
   "cell_type": "markdown",
   "metadata": {},
   "source": [
    "## The Problem\n",
    "---\n",
    "Let's look at a concrete example. Let's say our Oracle is a function that returns a 1 (true) only for an input value of the decimal number 5 (Binary 101) and 0 (false) for all other possible inputs between 0 and 7."
   ]
  },
  {
   "cell_type": "code",
   "execution_count": 14,
   "metadata": {},
   "outputs": [
    {
     "data": {
      "image/png": "[encoded data removed]",
      "text/plain": [
       "<Figure size 173.34x264.88 with 1 Axes>"
      ]
     },
     "execution_count": 14,
     "metadata": {},
     "output_type": "execute_result"
    }
   ],
   "source": [
    "#The Initialization code\n",
    "# Create a Quantum Register and classical registers with 3 qubits and 3 classical bits.\n",
    "q = QuantumRegister(3)\n",
    "c = ClassicalRegister(3)\n",
    "qc = QuantumCircuit(q, c)\n",
    "\n",
    "#Put the input data in superposition\n",
    "qc.h(q)\n",
    "qc.draw(output = \"mpl\")"
   ]
  },
  {
   "cell_type": "markdown",
   "metadata": {},
   "source": [
    "### The Oracle\n",
    "---\n",
    "We need an oracle (a series of gates) that returns 1 only for input |101>."
   ]
  },
  {
   "cell_type": "code",
   "execution_count": 15,
   "metadata": {},
   "outputs": [
    {
     "data": {
      "image/png": "[encoded data removed]",
      "text/plain": [
       "<Figure size 293.74x264.88 with 1 Axes>"
      ]
     },
     "execution_count": 15,
     "metadata": {},
     "output_type": "execute_result"
    }
   ],
   "source": [
    "#The Oracle Circuit\n",
    "qc.x(q[1])\n",
    "qc.ccx(q[0],q[1],q[2])\n",
    "qc.draw(output = \"mpl\")"
   ]
  },
  {
   "cell_type": "markdown",
   "metadata": {},
   "source": [
    "### The Diffusion Operator\n",
    "---\n",
    "also called amplitude purification, which calculates the mean probability amplitude μ of all states and inverts the probability amplitudes around this mean. This actually amplifies the probability amplitude of the target state."
   ]
  },
  {
   "cell_type": "code",
   "execution_count": 16,
   "metadata": {},
   "outputs": [
    {
     "data": {
      "image/png": "[encoded data removed]",
      "text/plain": [
       "<Figure size 594.74x264.88 with 1 Axes>"
      ]
     },
     "execution_count": 16,
     "metadata": {},
     "output_type": "execute_result"
    }
   ],
   "source": [
    "#Diffusion Circuit\n",
    "qc.h(q)\n",
    "qc.x(q)\n",
    "qc.ccx(q[0],q[1],q[2])\n",
    "qc.x(q)\n",
    "qc.h(q)\n",
    "qc.draw(output = \"mpl\")"
   ]
  },
  {
   "cell_type": "markdown",
   "metadata": {},
   "source": [
    "### Algorithm Iterations\n",
    "---\n",
    "The reason we will need many Grover Iterations as our problem size gets larger, is because each individual iteration will only\n",
    "boost the probability of our marked state by so much. Consider the diagram below, which shows that a single Grover Iteration is\n",
    "not enough to give our marked state a significant probability\n",
    "<img src=\"g1.png\">\n",
    "Too many Grover Iterations will make\n",
    "things worse, so we need to never go over the optimal amount. Luckily for us, there is a well known trend that tells us when to\n",
    "stop, for a system of N states and k answers:\n",
    "$$Optimal steps = \\pi/4\\sqrt{N/k}$$"
   ]
  },
  {
   "cell_type": "code",
   "execution_count": 17,
   "metadata": {},
   "outputs": [
    {
     "data": {
      "image/png": "[encoded data removed]",
      "text/plain": [
       "<Figure size 504x360 with 1 Axes>"
      ]
     },
     "execution_count": 17,
     "metadata": {},
     "output_type": "execute_result"
    }
   ],
   "source": [
    "#The full code\n",
    "# useful additional packages \n",
    "import matplotlib.pyplot as plt\n",
    "import matplotlib.axes as axes\n",
    "%matplotlib inline\n",
    "import math as m\n",
    "import re\n",
    "from qiskit import QuantumRegister, ClassicalRegister, QuantumCircuit, Aer, execute\n",
    "#import Our_Qiskit_Functions as oq #user-defined functions build by arXiv:1903.05195\n",
    "from qiskit.tools.visualization import plot_histogram\n",
    "#Initialize backends\n",
    "S_simulator = Aer.backends(name='statevector_simulator')[0]\n",
    "M_simulator = Aer.backends(name='qasm_simulator')[0]\n",
    "\n",
    "#The oracle for this problem as a function\n",
    "def ora(qcc,q):\n",
    "    qcc.x(q[1])\n",
    "    qcc.h(q[2])\n",
    "    qcc.ccx(q[0],q[1],q[2])\n",
    "    qcc.h(q[2])\n",
    "    qcc.x(q[1])\n",
    "\n",
    "#The diffusion operator as a function\n",
    "def dif(qcc,q):\n",
    "    qcc.h(q)\n",
    "    qcc.x(q)\n",
    "    qcc.h(q[2])\n",
    "    qcc.ccx(q[0],q[1],q[2])\n",
    "    qcc.h(q[2])\n",
    "    qcc.x(q)\n",
    "    qcc.h(q)\n",
    "\n",
    "#Initializing the qubits, classical bits and build the quantum circuit\n",
    "n = 3 #number of qubits (number of digits in the answer)\n",
    "input_qubits = QuantumRegister(n, name='input')\n",
    "clas = ClassicalRegister(n, name='class')\n",
    "qqc = QuantumCircuit(input_qubits,clas)\n",
    "qqc.h(input_qubits) #initilaize qubits in superposition\n",
    "\n",
    "N = 2**n #Get the total number of superposition states\n",
    "iterations = round(m.pi/4*m.sqrt(N)) #optimal iteration count\n",
    "\n",
    "#Repeat the algorithm the optimal number of iterations\n",
    "for i in range(iterations):\n",
    "    ora(qqc,input_qubits)\n",
    "    dif(qqc,input_qubits)\n",
    "    \n",
    "#Measure the answer    \n",
    "qqc.measure(input_qubits,clas)\n",
    "Measurement(qqc,shots=1024) #Displays measurement in ket-notation \n",
    "qqc.draw(output = \"mpl\") #Final circuit\n",
    "\n",
    "#Execute the circuit\n",
    "ex = execute(qqc, M_simulator, shots = 1024)\n",
    "res = ex.result()\n",
    "M = res.get_counts(qqc)\n",
    "\n",
    "#Plot the results\n",
    "plot_histogram(M, bar_labels=False)"
   ]
  },
  {
   "cell_type": "code",
   "execution_count": 18,
   "metadata": {},
   "outputs": [
    {
     "data": {
      "image/png": "[encoded data removed]",
      "text/plain": [
       "<Figure size 1080x288 with 1 Axes>"
      ]
     },
     "execution_count": 18,
     "metadata": {},
     "output_type": "execute_result"
    }
   ],
   "source": [
    "#Grover with different iterations\n",
    "l = [] #a list to store different number of iterations results\n",
    "def grover(x): # X >> Number of iterations\n",
    "    q = QuantumRegister(3)\n",
    "    c = ClassicalRegister(3)\n",
    "    qc = QuantumCircuit(q, c)\n",
    "    # Initializing i/p qubits in superposition\n",
    "    qc.h(q)\n",
    "    qc.barrier()\n",
    "    # Calculate iteration count\n",
    "    for i in range(x):\n",
    "        qc.barrier()\n",
    "        ora(qc, q)\n",
    "        qc.barrier()\n",
    "        dif(qc,q)\n",
    "    return qc, q, c\n",
    "\n",
    "#============================================================================================================\n",
    "iterations = round(m.pi/4*m.sqrt(N))\n",
    "for i in range(1,10):\n",
    "    qc, q, c = grover(i)\n",
    "    qc.measure(q,c)\n",
    "    #Executing circuit and show results\n",
    "    ex = execute(qc, M_simulator, shots = 5000)\n",
    "    res = ex.result()\n",
    "    M = res.get_counts(qc)\n",
    "    #printing measurements results\n",
    "    s = Measurement(qc,shots=5000)\n",
    "    pattern = \"\\d+\\|\\d+\\>\"\n",
    "    res = re.findall(pattern,s)\n",
    "    dct = {}\n",
    "    for item in res:\n",
    "      dct[item[item.index(\"|\"):]]= int(item[:item.index(\"|\")])\n",
    "    l.append(dct)\n",
    "#-----------------------------------------------------------------------------------------------------------\n",
    "plot_histogram(l, bar_labels=False,figsize=(15, 4))"
   ]
  },
  {
   "cell_type": "markdown",
   "metadata": {
    "slideshow": {
     "slide_type": "slide"
    }
   },
   "source": [
    "## References:\n",
    "---\n",
    "1. Qiskit. “Qiskit/Qiskit-Tutorials.” GitHub, 20 July 2019, https://github.com/Qiskit/iqx-user-guide/blob/master/rst/full-user-guide/004-Quantum_Algorithms/070-Grover's_Algorithm.rst.\n",
    "2. Koch, Daniel, Laura Wessing, and Paul M. Alsing. \"Introduction to Coding Quantum Algorithms: A Tutorial Series Using Pyquil.\" arXiv preprint arXiv:1903.05195 (2019).\n",
    "3. Voorhoede, D. (n.d.). Code example: Grover's algorithm. Retrieved from https://www.quantum-inspire.com/kbase/grover-algorithm/.\n",
    "4.Matuschak , A., & Nielsen, M. (1970, January 1). How the quantum search algorithm works. Retrieved from https://quantum.country/search.\n",
    "5. All pictures used are from Google image search"
   ]
  }
 ],
 "metadata": {
  "celltoolbar": "Slideshow",
  "kernelspec": {
   "display_name": "Qiskit v0.31.0 (ipykernel)",
   "language": "python",
   "name": "python3"
  },
  "language_info": {
   "codemirror_mode": {
    "name": "ipython",
    "version": 3
   },
   "file_extension": ".py",
   "mimetype": "text/x-python",
   "name": "python",
   "nbconvert_exporter": "python",
   "pygments_lexer": "ipython3",
   "version": "3.8.10"
  },
  "latex_envs": {
   "LaTeX_envs_menu_present": true,
   "autoclose": true,
   "autocomplete": true,
   "bibliofile": "biblio.bib",
   "cite_by": "apalike",
   "current_citInitial": 1,
   "eqLabelWithNumbers": true,
   "eqNumInitial": 1,
   "hotkeys": {
    "equation": "Ctrl-E",
    "itemize": "Ctrl-I"
   },
   "labels_anchors": false,
   "latex_user_defs": false,
   "report_style_numbering": false,
   "user_envs_cfg": false
  },
  "toc": {
   "base_numbering": 1,
   "nav_menu": {},
   "number_sections": true,
   "sideBar": true,
   "skip_h1_title": false,
   "title_cell": "Table of Contents",
   "title_sidebar": "Contents",
   "toc_cell": false,
   "toc_position": {},
   "toc_section_display": true,
   "toc_window_display": false
  },
  "widgets": {
   "application/vnd.jupyter.widget-state+json": {
    "state": {},
    "version_major": 2,
    "version_minor": 0
   }
  }
 },
 "nbformat": 4,
 "nbformat_minor": 4
}
